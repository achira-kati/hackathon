{
 "cells": [
  {
   "cell_type": "code",
   "execution_count": 1,
   "id": "143929e6-005d-45da-93c7-886853d1916c",
   "metadata": {
    "scrolled": true
   },
   "outputs": [],
   "source": [
    "# !pip install transformers wandb\n",
    "# !pip install gdown pandas scikit-learn evaluate emoji pythainlp==2.2.4 sefr_cut tinydb seqeval sentencepiece pydantic jsonlines\n",
    "# !pip install --no-deps thai2transformers==0.1.2\n",
    "# !pip install transformers[torch]\n",
    "# !pip install jiwer"
   ]
  },
  {
   "cell_type": "code",
   "execution_count": 2,
   "id": "8e3cc656-5dc1-428b-8c9c-a0c6cd279862",
   "metadata": {},
   "outputs": [],
   "source": [
    "# import gdown\n",
    "\n",
    "# url = \"https://drive.google.com/file/d/19xt3kgVvSXcbXQdjsT3wqiz6a-UdAbht/view?usp=sharing\"\n",
    "# output = \"nithan.zip\"\n",
    "# gdown.download(url=url, output=output, fuzzy=True)"
   ]
  },
  {
   "cell_type": "markdown",
   "id": "33629783-f77c-4daa-859a-af0f3c469316",
   "metadata": {},
   "source": [
    "# Prepare data"
   ]
  },
  {
   "cell_type": "code",
   "execution_count": 3,
   "id": "b0ddfe7d-96d2-479f-95d1-f995261ae15d",
   "metadata": {},
   "outputs": [
    {
     "data": {
      "text/html": [
       "<div>\n",
       "<style scoped>\n",
       "    .dataframe tbody tr th:only-of-type {\n",
       "        vertical-align: middle;\n",
       "    }\n",
       "\n",
       "    .dataframe tbody tr th {\n",
       "        vertical-align: top;\n",
       "    }\n",
       "\n",
       "    .dataframe thead th {\n",
       "        text-align: right;\n",
       "    }\n",
       "</style>\n",
       "<table border=\"1\" class=\"dataframe\">\n",
       "  <thead>\n",
       "    <tr style=\"text-align: right;\">\n",
       "      <th></th>\n",
       "      <th>file_name</th>\n",
       "      <th>text</th>\n",
       "    </tr>\n",
       "  </thead>\n",
       "  <tbody>\n",
       "    <tr>\n",
       "      <th>0</th>\n",
       "      <td>images/0/3.jpg</td>\n",
       "      <td>ของ</td>\n",
       "    </tr>\n",
       "    <tr>\n",
       "      <th>1</th>\n",
       "      <td>images/0/6.jpg</td>\n",
       "      <td>_</td>\n",
       "    </tr>\n",
       "    <tr>\n",
       "      <th>2</th>\n",
       "      <td>images/0/5.jpg</td>\n",
       "      <td>ได้</td>\n",
       "    </tr>\n",
       "    <tr>\n",
       "      <th>3</th>\n",
       "      <td>images/0/0.jpg</td>\n",
       "      <td>ฉัน</td>\n",
       "    </tr>\n",
       "    <tr>\n",
       "      <th>4</th>\n",
       "      <td>images/0/7.jpg</td>\n",
       "      <td>ของ</td>\n",
       "    </tr>\n",
       "    <tr>\n",
       "      <th>...</th>\n",
       "      <td>...</td>\n",
       "      <td>...</td>\n",
       "    </tr>\n",
       "    <tr>\n",
       "      <th>49995</th>\n",
       "      <td>images/4/49990.jpg</td>\n",
       "      <td>บัดนี้</td>\n",
       "    </tr>\n",
       "    <tr>\n",
       "      <th>49996</th>\n",
       "      <td>images/4/49997.jpg</td>\n",
       "      <td>_</td>\n",
       "    </tr>\n",
       "    <tr>\n",
       "      <th>49997</th>\n",
       "      <td>images/4/49996.jpg</td>\n",
       "      <td>เดินทาง</td>\n",
       "    </tr>\n",
       "    <tr>\n",
       "      <th>49998</th>\n",
       "      <td>images/4/49998.jpg</td>\n",
       "      <td>ก็</td>\n",
       "    </tr>\n",
       "    <tr>\n",
       "      <th>49999</th>\n",
       "      <td>images/4/49999.jpg</td>\n",
       "      <td>ถึง</td>\n",
       "    </tr>\n",
       "  </tbody>\n",
       "</table>\n",
       "<p>50000 rows × 2 columns</p>\n",
       "</div>"
      ],
      "text/plain": [
       "                file_name     text\n",
       "0          images/0/3.jpg      ของ\n",
       "1          images/0/6.jpg        _\n",
       "2          images/0/5.jpg      ได้\n",
       "3          images/0/0.jpg      ฉัน\n",
       "4          images/0/7.jpg      ของ\n",
       "...                   ...      ...\n",
       "49995  images/4/49990.jpg   บัดนี้\n",
       "49996  images/4/49997.jpg        _\n",
       "49997  images/4/49996.jpg  เดินทาง\n",
       "49998  images/4/49998.jpg       ก็\n",
       "49999  images/4/49999.jpg      ถึง\n",
       "\n",
       "[50000 rows x 2 columns]"
      ]
     },
     "execution_count": 3,
     "metadata": {},
     "output_type": "execute_result"
    }
   ],
   "source": [
    "import pandas as pd\n",
    "\n",
    "df = pd.read_csv('single_result/gt.txt', header=None, sep='\\t')\n",
    "df.columns = ['file_name', 'text']\n",
    "df"
   ]
  },
  {
   "cell_type": "code",
   "execution_count": 4,
   "id": "2c1d3401-31bd-4231-82bc-5617eadf67ec",
   "metadata": {},
   "outputs": [],
   "source": [
    "# from thai2transformers.preprocess import process_transformers\n",
    "# from transformers import AutoTokenizer\n",
    "\n",
    "# tokenizer = AutoTokenizer.from_pretrained(\"airesearch/wangchanberta-base-att-spm-uncased\", model_max_length=416)\n",
    "\n",
    "# def find_length(text):\n",
    "#     text = process_transformers(text)\n",
    "#     tokens = tokenizer(text)\n",
    "#     return len(tokens['input_ids'])\n",
    "\n",
    "# df['tokens_length'] = df['text'].apply(find_length)\n",
    "\n",
    "# max_length = df['tokens_length'].max()\n",
    "# min_length = df['tokens_length'].min()\n",
    "# avg_length = df['tokens_length'].mean()\n",
    "# length_95 = df['tokens_length'].quantile(0.95)\n",
    "# length_99 = df['tokens_length'].quantile(0.99)\n",
    "\n",
    "# print(f\"Maximum tokens length: {max_length}\")\n",
    "# print(f\"Minimum tokens length: {min_length}\")\n",
    "# print(f\"Average tokens length: {avg_length}\")\n",
    "# print(f\"95% of the texts have length less than or equal to: {length_95}\")\n",
    "# print(f\"99% of the texts have length less than or equal to: {length_99}\")"
   ]
  },
  {
   "cell_type": "code",
   "execution_count": 19,
   "id": "7d84e851-0bbf-41e1-a24c-854c001c7fc0",
   "metadata": {},
   "outputs": [],
   "source": [
    "from sklearn.model_selection import train_test_split\n",
    "\n",
    "train_df, test_df = train_test_split(df, test_size=0.2)\n",
    "# we reset the indices to start from zero\n",
    "train_df.reset_index(drop=True, inplace=True)\n",
    "test_df.reset_index(drop=True, inplace=True)"
   ]
  },
  {
   "cell_type": "code",
   "execution_count": 6,
   "id": "208e8d3f-16ea-4938-88c0-93e0d3327e14",
   "metadata": {},
   "outputs": [],
   "source": [
    "import torch\n",
    "from torch.utils.data import Dataset\n",
    "from PIL import Image\n",
    "from thai2transformers.preprocess import process_transformers\n",
    "\n",
    "class MyDataset(Dataset):\n",
    "    def __init__(self, root_dir, df, processor, max_target_length=20):\n",
    "        self.root_dir = root_dir\n",
    "        self.df = df\n",
    "        self.processor = processor\n",
    "        self.max_target_length = max_target_length\n",
    "\n",
    "    def __len__(self):\n",
    "        return len(self.df)\n",
    "\n",
    "    def __getitem__(self, idx):\n",
    "        # get file name + text \n",
    "        file_name = self.df['file_name'][idx]\n",
    "        text = self.df['text'][idx]\n",
    "        # prepare image (i.e. resize + normalize)\n",
    "        if text == '_':\n",
    "            image = Image.open(self.root_dir + file_name).convert(\"RGB\")\n",
    "            size = image.size[0]\n",
    "            image = image.resize((size*2, size))\n",
    "        else:\n",
    "            image = Image.open(self.root_dir + file_name).convert(\"RGB\")\n",
    "\n",
    "        pixel_values = self.processor(image, return_tensors=\"pt\").pixel_values\n",
    "        # add labels (input_ids) by encoding the text\n",
    "        text = process_transformers(text)\n",
    "        labels = self.processor.tokenizer(text, \n",
    "                                          padding=\"max_length\",\n",
    "                                          truncation=True,\n",
    "                                          max_length=self.max_target_length).input_ids\n",
    "        # important: make sure that PAD tokens are ignored by the loss function\n",
    "        labels = [label if label != self.processor.tokenizer.pad_token_id else -100 for label in labels]\n",
    "    \n",
    "        encoding = {\"pixel_values\": pixel_values.squeeze(), \"labels\": torch.tensor(labels)}\n",
    "        return encoding"
   ]
  },
  {
   "cell_type": "code",
   "execution_count": 20,
   "id": "111383b7-7f9d-4972-8ea7-2344f6279ac4",
   "metadata": {},
   "outputs": [],
   "source": [
    "from transformers import VisionEncoderDecoderModel, AutoTokenizer, ViTImageProcessor, TrOCRProcessor\n",
    "\n",
    "# image_processor = TrOCRProcessor.from_pretrained('microsoft/trocr-base-handwritten').image_processor\n",
    "# tokenizer = AutoTokenizer.from_pretrained(\"airesearch/wangchanberta-base-att-spm-uncased\", model_max_length=416)\n",
    "# processor = TrOCRProcessor(image_processor=image_processor, tokenizer=tokenizer)\n",
    "processor = TrOCRProcessor.from_pretrained('kkatiz/thai-trocr-thaigov-v2')\n",
    "\n",
    "train_dataset = MyDataset(root_dir='single_result/',\n",
    "                           df=train_df,\n",
    "                           processor=processor)\n",
    "eval_dataset = MyDataset(root_dir='single_result/',\n",
    "                           df=test_df,\n",
    "                           processor=processor)"
   ]
  },
  {
   "cell_type": "code",
   "execution_count": 21,
   "id": "4ef18ed4-74b6-4a75-bb18-8e44b9587b07",
   "metadata": {},
   "outputs": [
    {
     "name": "stdout",
     "output_type": "stream",
     "text": [
      "Number of training examples: 40000\n",
      "Number of validation examples: 10000\n"
     ]
    }
   ],
   "source": [
    "print(\"Number of training examples:\", len(train_dataset))\n",
    "print(\"Number of validation examples:\", len(eval_dataset))"
   ]
  },
  {
   "cell_type": "code",
   "execution_count": 9,
   "id": "873ee628-8d68-4b90-8c0e-4661cc073e0c",
   "metadata": {},
   "outputs": [
    {
     "name": "stdout",
     "output_type": "stream",
     "text": [
      "pixel_values torch.Size([3, 384, 384])\n",
      "labels torch.Size([20])\n"
     ]
    }
   ],
   "source": [
    "encoding = train_dataset[0]\n",
    "for k,v in encoding.items():\n",
    "  print(k, v.shape)"
   ]
  },
  {
   "cell_type": "code",
   "execution_count": 10,
   "id": "9ea31c07-fdef-4232-8b37-eaaccad20169",
   "metadata": {},
   "outputs": [],
   "source": [
    "# from tqdm.auto import tqdm\n",
    "\n",
    "# for i in tqdm(range(len(train_dataset))):\n",
    "#     encoding = train_dataset[i]\n",
    "#     if len(encoding['labels']) != train_dataset.max_target_length:\n",
    "#         print(f\"Label at index {i} has length {len(encoding['labels'])}, which is not equal to max_target_length.\")\n",
    "#         break\n",
    "#     if encoding['pixel_values'].size(0) != 3:\n",
    "#         print(f\"Label at index {i} has pixel_values {encoding['pixel_values'].shape}\")\n",
    "#         break\n",
    "\n",
    "#     labels = encoding['labels']\n",
    "#     labels[labels == -100] = processor.tokenizer.pad_token_id\n",
    "#     label_str = processor.decode(labels, skip_special_tokens=True)\n",
    "#     if label_str == \"\":\n",
    "#         print(f\"Label string at index {i} is empty.\")\n",
    "#         break\n",
    "# else: \n",
    "#     print(\"No errors found.\")"
   ]
  },
  {
   "cell_type": "code",
   "execution_count": 11,
   "id": "33a269f5-3950-4f2a-aa31-f00d986bed11",
   "metadata": {},
   "outputs": [
    {
     "data": {
      "image/jpeg": "[encoded data removed]",
      "image/png": "[encoded data removed]",
      "text/plain": [
       "<PIL.Image.Image image mode=RGB size=47x70>"
      ]
     },
     "execution_count": 11,
     "metadata": {},
     "output_type": "execute_result"
    }
   ],
   "source": [
    "image = Image.open(train_dataset.root_dir + train_df['file_name'][0]).convert(\"RGB\")\n",
    "image"
   ]
  },
  {
   "cell_type": "code",
   "execution_count": 12,
   "id": "d0e11b90-9c88-4bed-ab87-f9913fa10247",
   "metadata": {},
   "outputs": [
    {
     "name": "stdout",
     "output_type": "stream",
     "text": [
      "มี\n"
     ]
    }
   ],
   "source": [
    "labels = encoding['labels']\n",
    "labels[labels == -100] = processor.tokenizer.pad_token_id\n",
    "label_str = processor.decode(labels, skip_special_tokens=True)\n",
    "print(label_str)"
   ]
  },
  {
   "cell_type": "markdown",
   "id": "c9cba059-aa70-448d-9ff9-7ad2964aff09",
   "metadata": {},
   "source": [
    "# Train a model"
   ]
  },
  {
   "cell_type": "code",
   "execution_count": 22,
   "id": "f29646a0-5c38-4fbc-818c-a467eca33e1a",
   "metadata": {
    "scrolled": true
   },
   "outputs": [],
   "source": [
    "from transformers import VisionEncoderDecoderModel, GenerationConfig, CamembertForCausalLM, VisionEncoderDecoderConfig\n",
    "\n",
    "# encoder = VisionEncoderDecoderModel.from_pretrained('microsoft/trocr-base-handwritten').encoder\n",
    "# encoder.save_pretrained('encoder')\n",
    "\n",
    "# model = VisionEncoderDecoderModel.from_encoder_decoder_pretrained(\"encoder\", \"airesearch/wangchanberta-base-att-spm-uncased\")\n",
    "# model.config\n",
    "# model = VisionEncoderDecoderModel.from_pretrained('kkatiz/thai-trocr-thaigov-v2')\n",
    "model = VisionEncoderDecoderModel.from_pretrained('nithan-ocr/checkpoint-500/')"
   ]
  },
  {
   "cell_type": "code",
   "execution_count": 23,
   "id": "21a346c1-03cb-48e7-8601-b42b30dce12e",
   "metadata": {},
   "outputs": [],
   "source": [
    "# set special tokens used for creating the decoder_input_ids from the labels\n",
    "model.config.decoder_start_token_id = processor.tokenizer.cls_token_id\n",
    "model.config.pad_token_id = processor.tokenizer.pad_token_id\n",
    "# make sure vocab size is set correctly\n",
    "model.config.vocab_size = model.config.decoder.vocab_size\n",
    "\n",
    "# # set beam search parameters\n",
    "# model.config.eos_token_id = processor.tokenizer.sep_token_id\n",
    "# model.config.max_length = 64\n",
    "# model.config.early_stopping = True\n",
    "# model.config.no_repeat_ngram_size = 3\n",
    "# model.config.length_penalty = 2.0\n",
    "# model.config.num_beams = 4\n",
    "\n",
    "model.generation_config = GenerationConfig(\n",
    "    decoder_start_token_id = processor.tokenizer.cls_token_id,\n",
    "    pad_token_id = processor.tokenizer.pad_token_id,\n",
    "    vocab_size = model.config.decoder.vocab_size,\n",
    "    max_length = 64,\n",
    "    eos_token_id = processor.tokenizer.sep_token_id,\n",
    "    early_stopping = True,\n",
    "    no_repeat_ngram_size = 3,\n",
    "    length_penalty = 2.0,\n",
    "    num_beams = 4\n",
    ")"
   ]
  },
  {
   "cell_type": "code",
   "execution_count": 24,
   "id": "11ce6833-f2dc-441d-b321-803452ef6c0c",
   "metadata": {},
   "outputs": [
    {
     "data": {
      "text/html": [
       "Finishing last run (ID:u1054yoa) before initializing another..."
      ],
      "text/plain": [
       "<IPython.core.display.HTML object>"
      ]
     },
     "metadata": {},
     "output_type": "display_data"
    },
    {
     "name": "stderr",
     "output_type": "stream",
     "text": [
      "wandb: WARNING Ensure read and write access to run files dir: /home/wandb/run-20240308_232845-u1054yoa/files, control this via the WANDB_DIR env var. See https://docs.wandb.ai/guides/track/environment-variables\n"
     ]
    },
    {
     "data": {
      "application/vnd.jupyter.widget-view+json": {
       "model_id": "",
       "version_major": 2,
       "version_minor": 0
      },
      "text/plain": [
       "VBox(children=(Label(value='0.000 MB of 0.000 MB uploaded\\r'), FloatProgress(value=1.0, max=1.0)))"
      ]
     },
     "metadata": {},
     "output_type": "display_data"
    },
    {
     "data": {
      "text/html": [
       "<style>\n",
       "    table.wandb td:nth-child(1) { padding: 0 10px; text-align: left ; width: auto;} td:nth-child(2) {text-align: left ; width: 100%}\n",
       "    .wandb-row { display: flex; flex-direction: row; flex-wrap: wrap; justify-content: flex-start; width: 100% }\n",
       "    .wandb-col { display: flex; flex-direction: column; flex-basis: 100%; flex: 1; padding: 10px; }\n",
       "    </style>\n",
       "<div class=\"wandb-row\"><div class=\"wandb-col\"><h3>Run history:</h3><br/><table class=\"wandb\"><tr><td>eval/cer</td><td>▁</td></tr><tr><td>eval/loss</td><td>▁</td></tr><tr><td>eval/runtime</td><td>▁</td></tr><tr><td>eval/samples_per_second</td><td>▁</td></tr><tr><td>eval/steps_per_second</td><td>▁</td></tr><tr><td>train/epoch</td><td>▁▁▁▁▂▂▂▂▂▃▃▃▃▃▃▄▄▄▄▄▅▅▅▅▅▅▆▆▆▆▆▇▇▇▇▇▇███</td></tr><tr><td>train/global_step</td><td>▁▁▁▂▂▂▂▂▂▃▃▃▃▃▄▄▄▄▄▄▅▅▅▅▅▆▆▆▆▆▆▇▇▇▇▇▇███</td></tr><tr><td>train/grad_norm</td><td>▂▂▁▁▁▂▁▁▂▁▁▁▁▁▁▁▁▁▁▁▁▁▁▁▁▁▁▁▁▁▁▂█▁▁▁▁▁▁▁</td></tr><tr><td>train/learning_rate</td><td>▁▁▁▂▂▂▂▂▂▃▃▃▃▃▄▄▄▄▄▄▅▅▅▅▅▅▆▆▆▆▆▇▇▇▇▇▇███</td></tr><tr><td>train/loss</td><td>▆█▆▄▅▆▅▅▆▅▅▄▄▄▄▄▄▃▂▂▃▂▄▅▄▄▂▂▂▃▃▃▄▃▃▁▃▄▂▃</td></tr></table><br/></div><div class=\"wandb-col\"><h3>Run summary:</h3><br/><table class=\"wandb\"><tr><td>eval/cer</td><td>0.10547</td></tr><tr><td>eval/loss</td><td>0.27436</td></tr><tr><td>eval/runtime</td><td>192.3404</td></tr><tr><td>eval/samples_per_second</td><td>25.996</td></tr><tr><td>eval/steps_per_second</td><td>0.816</td></tr><tr><td>train/epoch</td><td>0.45</td></tr><tr><td>train/global_step</td><td>636</td></tr><tr><td>train/grad_norm</td><td>347936.71875</td></tr><tr><td>train/learning_rate</td><td>2e-05</td></tr><tr><td>train/loss</td><td>0.3295</td></tr></table><br/></div></div>"
      ],
      "text/plain": [
       "<IPython.core.display.HTML object>"
      ]
     },
     "metadata": {},
     "output_type": "display_data"
    },
    {
     "data": {
      "text/html": [
       " View run <strong style=\"color:#cdcd00\">nithan-ocr</strong> at: <a href='https://wandb.ai/kkatiz/thai-ocr/runs/u1054yoa' target=\"_blank\">https://wandb.ai/kkatiz/thai-ocr/runs/u1054yoa</a><br/>Synced 4 W&B file(s), 0 media file(s), 0 artifact file(s) and 0 other file(s)"
      ],
      "text/plain": [
       "<IPython.core.display.HTML object>"
      ]
     },
     "metadata": {},
     "output_type": "display_data"
    },
    {
     "data": {
      "text/html": [
       "Find logs at: <code>./wandb/run-20240308_232845-u1054yoa/logs</code>"
      ],
      "text/plain": [
       "<IPython.core.display.HTML object>"
      ]
     },
     "metadata": {},
     "output_type": "display_data"
    },
    {
     "data": {
      "text/html": [
       "Successfully finished last run (ID:u1054yoa). Initializing new run:<br/>"
      ],
      "text/plain": [
       "<IPython.core.display.HTML object>"
      ]
     },
     "metadata": {},
     "output_type": "display_data"
    },
    {
     "data": {
      "application/vnd.jupyter.widget-view+json": {
       "model_id": "8ce2f7e9bcfa4699aa55134cd7940d15",
       "version_major": 2,
       "version_minor": 0
      },
      "text/plain": [
       "VBox(children=(Label(value='Waiting for wandb.init()...\\r'), FloatProgress(value=0.011112987433767154, max=1.0…"
      ]
     },
     "metadata": {},
     "output_type": "display_data"
    },
    {
     "data": {
      "text/html": [
       "Tracking run with wandb version 0.16.4"
      ],
      "text/plain": [
       "<IPython.core.display.HTML object>"
      ]
     },
     "metadata": {},
     "output_type": "display_data"
    },
    {
     "data": {
      "text/html": [
       "Run data is saved locally in <code>/home/wandb/run-20240308_234808-u1054yoa</code>"
      ],
      "text/plain": [
       "<IPython.core.display.HTML object>"
      ]
     },
     "metadata": {},
     "output_type": "display_data"
    },
    {
     "data": {
      "text/html": [
       "Resuming run <strong><a href='https://wandb.ai/kkatiz/thai-ocr/runs/u1054yoa' target=\"_blank\">nithan-ocr</a></strong> to <a href='https://wandb.ai/kkatiz/thai-ocr' target=\"_blank\">Weights & Biases</a> (<a href='https://wandb.me/run' target=\"_blank\">docs</a>)<br/>"
      ],
      "text/plain": [
       "<IPython.core.display.HTML object>"
      ]
     },
     "metadata": {},
     "output_type": "display_data"
    },
    {
     "data": {
      "text/html": [
       " View project at <a href='https://wandb.ai/kkatiz/thai-ocr' target=\"_blank\">https://wandb.ai/kkatiz/thai-ocr</a>"
      ],
      "text/plain": [
       "<IPython.core.display.HTML object>"
      ]
     },
     "metadata": {},
     "output_type": "display_data"
    },
    {
     "data": {
      "text/html": [
       " View run at <a href='https://wandb.ai/kkatiz/thai-ocr/runs/u1054yoa' target=\"_blank\">https://wandb.ai/kkatiz/thai-ocr/runs/u1054yoa</a>"
      ],
      "text/plain": [
       "<IPython.core.display.HTML object>"
      ]
     },
     "metadata": {},
     "output_type": "display_data"
    }
   ],
   "source": [
    "from transformers import Seq2SeqTrainer, Seq2SeqTrainingArguments\n",
    "import wandb\n",
    "\n",
    "model_name = 'nithan-ocr'\n",
    "\n",
    "wandb.init(project=\"thai-ocr\", name=model_name, resume=True)\n",
    "\n",
    "training_args = Seq2SeqTrainingArguments(\n",
    "    predict_with_generate=True,\n",
    "    evaluation_strategy=\"steps\",\n",
    "    per_device_train_batch_size=16,\n",
    "    per_device_eval_batch_size=16,\n",
    "    fp16=True, \n",
    "    output_dir=model_name,\n",
    "    weight_decay=0.01,\n",
    "    learning_rate=2e-5,\n",
    "    logging_steps=2,\n",
    "    save_steps=500,\n",
    "    eval_steps=500,\n",
    "    warmup_steps=843, # ((len(dataset) / batch_size) * n_epochs) * want_protion e.g 0.1\n",
    "    num_train_epochs = 3,\n",
    "    overwrite_output_dir=True,\n",
    "    save_total_limit=3,\n",
    "    report_to='wandb',\n",
    "    run_name=model_name,\n",
    "    resume_from_checkpoint=True\n",
    ")"
   ]
  },
  {
   "cell_type": "code",
   "execution_count": 25,
   "id": "730ff0c7-e597-4ea7-b232-0721478524d5",
   "metadata": {},
   "outputs": [],
   "source": [
    "import evaluate\n",
    "\n",
    "cer_metric = evaluate.load(\"cer\")"
   ]
  },
  {
   "cell_type": "code",
   "execution_count": 26,
   "id": "d5fd37b9-0372-42ed-a219-2fc703c8282a",
   "metadata": {},
   "outputs": [],
   "source": [
    "def compute_metrics(pred):\n",
    "    labels_ids = pred.label_ids\n",
    "    pred_ids = pred.predictions\n",
    "\n",
    "    pred_str = processor.batch_decode(pred_ids, skip_special_tokens=True)\n",
    "    labels_ids[labels_ids == -100] = processor.tokenizer.pad_token_id\n",
    "    label_str = processor.batch_decode(labels_ids, skip_special_tokens=True)\n",
    "\n",
    "    cer = cer_metric.compute(predictions=pred_str, references=label_str)\n",
    "\n",
    "    return {\"cer\": cer}"
   ]
  },
  {
   "cell_type": "code",
   "execution_count": 27,
   "id": "9766fd25-8f5b-4975-8868-d14c5c84f2b1",
   "metadata": {},
   "outputs": [
    {
     "name": "stderr",
     "output_type": "stream",
     "text": [
      "Detected kernel version 5.4.0, which is below the recommended minimum of 5.5.0; this can cause the process to hang. It is recommended to upgrade the kernel to the minimum version or higher.\n",
      "There were missing keys in the checkpoint model loaded: ['decoder.lm_head.decoder.weight', 'decoder.lm_head.decoder.bias'].\n",
      "/opt/conda/lib/python3.10/site-packages/torch/nn/parallel/_functions.py:68: UserWarning: Was asked to gather along dimension 0, but all input tensors were scalars; will instead unsqueeze and return a vector.\n",
      "  warnings.warn('Was asked to gather along dimension 0, but all '\n"
     ]
    },
    {
     "data": {
      "text/html": [
       "\n",
       "    <div>\n",
       "      \n",
       "      <progress value='3750' max='3750' style='width:300px; height:20px; vertical-align: middle;'></progress>\n",
       "      [3750/3750 1:44:39, Epoch 3/3]\n",
       "    </div>\n",
       "    <table border=\"1\" class=\"dataframe\">\n",
       "  <thead>\n",
       " <tr style=\"text-align: left;\">\n",
       "      <th>Step</th>\n",
       "      <th>Training Loss</th>\n",
       "      <th>Validation Loss</th>\n",
       "      <th>Cer</th>\n",
       "    </tr>\n",
       "  </thead>\n",
       "  <tbody>\n",
       "    <tr>\n",
       "      <td>1000</td>\n",
       "      <td>0.172000</td>\n",
       "      <td>0.164313</td>\n",
       "      <td>0.065633</td>\n",
       "    </tr>\n",
       "    <tr>\n",
       "      <td>1500</td>\n",
       "      <td>0.061600</td>\n",
       "      <td>0.119879</td>\n",
       "      <td>0.044115</td>\n",
       "    </tr>\n",
       "    <tr>\n",
       "      <td>2000</td>\n",
       "      <td>0.053300</td>\n",
       "      <td>0.090604</td>\n",
       "      <td>0.033867</td>\n",
       "    </tr>\n",
       "    <tr>\n",
       "      <td>2500</td>\n",
       "      <td>0.036900</td>\n",
       "      <td>0.070106</td>\n",
       "      <td>0.027196</td>\n",
       "    </tr>\n",
       "    <tr>\n",
       "      <td>3000</td>\n",
       "      <td>0.005600</td>\n",
       "      <td>0.063369</td>\n",
       "      <td>0.022938</td>\n",
       "    </tr>\n",
       "    <tr>\n",
       "      <td>3500</td>\n",
       "      <td>0.037600</td>\n",
       "      <td>0.058463</td>\n",
       "      <td>0.020354</td>\n",
       "    </tr>\n",
       "  </tbody>\n",
       "</table><p>"
      ],
      "text/plain": [
       "<IPython.core.display.HTML object>"
      ]
     },
     "metadata": {},
     "output_type": "display_data"
    },
    {
     "name": "stderr",
     "output_type": "stream",
     "text": [
      "/opt/conda/lib/python3.10/site-packages/torch/nn/parallel/_functions.py:68: UserWarning: Was asked to gather along dimension 0, but all input tensors were scalars; will instead unsqueeze and return a vector.\n",
      "  warnings.warn('Was asked to gather along dimension 0, but all '\n",
      "/opt/conda/lib/python3.10/site-packages/torch/nn/parallel/_functions.py:68: UserWarning: Was asked to gather along dimension 0, but all input tensors were scalars; will instead unsqueeze and return a vector.\n",
      "  warnings.warn('Was asked to gather along dimension 0, but all '\n",
      "/opt/conda/lib/python3.10/site-packages/torch/nn/parallel/_functions.py:68: UserWarning: Was asked to gather along dimension 0, but all input tensors were scalars; will instead unsqueeze and return a vector.\n",
      "  warnings.warn('Was asked to gather along dimension 0, but all '\n",
      "/opt/conda/lib/python3.10/site-packages/torch/nn/parallel/_functions.py:68: UserWarning: Was asked to gather along dimension 0, but all input tensors were scalars; will instead unsqueeze and return a vector.\n",
      "  warnings.warn('Was asked to gather along dimension 0, but all '\n",
      "/opt/conda/lib/python3.10/site-packages/torch/nn/parallel/_functions.py:68: UserWarning: Was asked to gather along dimension 0, but all input tensors were scalars; will instead unsqueeze and return a vector.\n",
      "  warnings.warn('Was asked to gather along dimension 0, but all '\n"
     ]
    },
    {
     "data": {
      "text/plain": [
       "TrainOutput(global_step=3750, training_loss=0.08984003741629422, metrics={'train_runtime': 6280.8699, 'train_samples_per_second': 19.106, 'train_steps_per_second': 0.597, 'total_flos': 6.392185002786816e+19, 'train_loss': 0.08984003741629422, 'epoch': 3.0})"
      ]
     },
     "execution_count": 27,
     "metadata": {},
     "output_type": "execute_result"
    }
   ],
   "source": [
    "from transformers import default_data_collator\n",
    "\n",
    "# instantiate trainer\n",
    "trainer = Seq2SeqTrainer(\n",
    "    model=model,\n",
    "    tokenizer=processor.image_processor,\n",
    "    args=training_args,\n",
    "    compute_metrics=compute_metrics,\n",
    "    train_dataset=train_dataset,\n",
    "    eval_dataset=eval_dataset,\n",
    "    data_collator=default_data_collator,\n",
    ")\n",
    "trainer.train(resume_from_checkpoint=True)\n",
    "# trainer.train()"
   ]
  },
  {
   "cell_type": "code",
   "execution_count": 28,
   "id": "1958b8b5-401c-41ae-b2b8-3b7dd7d0ddef",
   "metadata": {},
   "outputs": [
    {
     "data": {
      "text/html": [
       "\n",
       "    <div>\n",
       "      \n",
       "      <progress value='313' max='313' style='width:300px; height:20px; vertical-align: middle;'></progress>\n",
       "      [313/313 06:23]\n",
       "    </div>\n",
       "    "
      ],
      "text/plain": [
       "<IPython.core.display.HTML object>"
      ]
     },
     "metadata": {},
     "output_type": "display_data"
    },
    {
     "data": {
      "text/plain": [
       "{'eval_loss': 0.05729099363088608,\n",
       " 'eval_cer': 0.019161982626469086,\n",
       " 'eval_runtime': 385.8082,\n",
       " 'eval_samples_per_second': 25.92,\n",
       " 'eval_steps_per_second': 0.811,\n",
       " 'epoch': 3.0}"
      ]
     },
     "execution_count": 28,
     "metadata": {},
     "output_type": "execute_result"
    }
   ],
   "source": [
    "trainer.evaluate()"
   ]
  },
  {
   "cell_type": "code",
   "execution_count": 44,
   "id": "61332cef-3ea4-45f4-aefd-f92ad85b6d4d",
   "metadata": {},
   "outputs": [
    {
     "data": {
      "image/jpeg": "[encoded data removed]",
      "image/png": "[encoded data removed]",
      "text/plain": [
       "<PIL.Image.Image image mode=RGB size=50x54>"
      ]
     },
     "metadata": {},
     "output_type": "display_data"
    },
    {
     "name": "stdout",
     "output_type": "stream",
     "text": [
      "รีบ\n"
     ]
    }
   ],
   "source": [
    "image = Image.open('single_result/images/0/139.jpg').convert(\"RGB\")\n",
    "pixel_values = processor(image, return_tensors=\"pt\").pixel_values.to('cuda')\n",
    "generated_ids = model.generate(pixel_values)\n",
    "\n",
    "generated_text = processor.batch_decode(generated_ids, skip_special_tokens=True)[0]\n",
    "\n",
    "display(image)\n",
    "print(generated_text)"
   ]
  },
  {
   "cell_type": "code",
   "execution_count": 30,
   "id": "b0234ae5-a9f0-4f31-b00d-62e9099f4535",
   "metadata": {},
   "outputs": [
    {
     "data": {
      "text/plain": [
       "[]"
      ]
     },
     "execution_count": 30,
     "metadata": {},
     "output_type": "execute_result"
    }
   ],
   "source": [
    "# model.save_pretrained('best_model')\n",
    "# processor.save_pretrained('best_model')"
   ]
  },
  {
   "cell_type": "code",
   "execution_count": 31,
   "id": "75fa3491-4f13-4bcd-b854-f32f9e6ad929",
   "metadata": {
    "scrolled": true
   },
   "outputs": [],
   "source": [
    "# test_model = VisionEncoderDecoderModel.from_pretrained('best_model')\n",
    "# test_processor = TrOCRProcessor.from_pretrained('best_model')"
   ]
  },
  {
   "cell_type": "code",
   "execution_count": 33,
   "id": "d10b8d89-7160-49af-92fb-1105a48d658a",
   "metadata": {},
   "outputs": [
    {
     "data": {
      "application/vnd.jupyter.widget-view+json": {
       "model_id": "b33f36e04d79437d893117c0795ae762",
       "version_major": 2,
       "version_minor": 0
      },
      "text/plain": [
       "model.safetensors:   0%|          | 0.00/881M [00:00<?, ?B/s]"
      ]
     },
     "metadata": {},
     "output_type": "display_data"
    },
    {
     "data": {
      "application/vnd.jupyter.widget-view+json": {
       "model_id": "9844719a11ef489ba81c24bf016ceb32",
       "version_major": 2,
       "version_minor": 0
      },
      "text/plain": [
       "README.md:   0%|          | 0.00/5.17k [00:00<?, ?B/s]"
      ]
     },
     "metadata": {},
     "output_type": "display_data"
    },
    {
     "data": {
      "application/vnd.jupyter.widget-view+json": {
       "model_id": "1f13a78748b9475e9f691366c6f8411c",
       "version_major": 2,
       "version_minor": 0
      },
      "text/plain": [
       "sentencepiece.bpe.model:   0%|          | 0.00/905k [00:00<?, ?B/s]"
      ]
     },
     "metadata": {},
     "output_type": "display_data"
    },
    {
     "data": {
      "text/plain": [
       "CommitInfo(commit_url='https://huggingface.co/kkatiz/ocr-nithan/commit/b55c31aebf69b5acb51eb92b1381a2dc83cf7df2', commit_message='Upload processor', commit_description='', oid='b55c31aebf69b5acb51eb92b1381a2dc83cf7df2', pr_url=None, pr_revision=None, pr_num=None)"
      ]
     },
     "execution_count": 33,
     "metadata": {},
     "output_type": "execute_result"
    }
   ],
   "source": [
    "# model.push_to_hub(\"ocr-nithan\", private=True)\n",
    "# processor.push_to_hub('ocr-nithan', private=True)"
   ]
  }
 ],
 "metadata": {
  "kernelspec": {
   "display_name": "Python 3 (ipykernel)",
   "language": "python",
   "name": "python3"
  },
  "language_info": {
   "codemirror_mode": {
    "name": "ipython",
    "version": 3
   },
   "file_extension": ".py",
   "mimetype": "text/x-python",
   "name": "python",
   "nbconvert_exporter": "python",
   "pygments_lexer": "ipython3",
   "version": "3.10.13"
  }
 },
 "nbformat": 4,
 "nbformat_minor": 5
}
